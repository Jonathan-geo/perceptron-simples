{
 "cells": [
  {
   "cell_type": "markdown",
   "metadata": {},
   "source": [
    "# Modelo Perceptron\n",
    "![Python](https://img.shields.io/badge/python-3.x-orange.svg)\n",
    "![Type](https://img.shields.io/badge/Machine-Learning-red.svg) ![Type](https://img.shields.io/badge/Type-Supervised-yellow.svg)\n",
    "![Status](https://img.shields.io/badge/Status-Completed-yellowgreen.svg)"
   ]
  },
  {
   "cell_type": "markdown",
   "metadata": {
    "colab_type": "text",
    "id": "D1KdzwJLgCml"
   },
   "source": [
    "Neste tutorial iremos elaborar um modelo de aprendizagem **Supervisionada** chamado perceptron simples. Iremos utilizar os dados do dataset iris, mais especificamente os dados de duas tipagem de plantas, a Iris Setosa e a Iris versicolor.Estamos utilizando dois dados de saída pois iremos fazer uma análise de classificação linear simples, ou seja, com a função de ativação degrau bipolar. Como estamos utilizando um regressão simples, iremos utilizar apenas duas características de entradas de dados. Comprimento da Sepala e Comprimento da Petala.\n",
    "\n",
    "\n",
    "### Modelo:\n",
    "\n",
    "<a href=\"https://imgur.com/HPRdoda\"><img src=\"https://i.imgur.com/HPRdoda.png\" title=\"source: imgur.com\" /></a>"
   ]
  },
  {
   "cell_type": "markdown",
   "metadata": {
    "colab_type": "text",
    "id": "-jsinf79z_Yu"
   },
   "source": [
    "### Iris Data Set\n",
    "### Informações dos dados:\n",
    "\n",
    "```\n",
    "0. sepal length in cm = Comprimento da Sepala [SepalLengthCm]\n",
    "1. sepal width in cm  = Largura da Sepala [SepalWidthCm]\n",
    "2. petal length in cm = Comprimento da Petala [PetalLengthCm]\n",
    "3. petal width in cm  = Larguta da Petala [PetalWidthCm]\n",
    "\n",
    "4. class:\n",
    "-- Iris Setosa\n",
    "-- Iris Versicolour\n",
    "-- Iris Virginica\n",
    "````\n",
    "\n",
    "**Iremos utilizar:**\n",
    "\n",
    "Iris Setosa \n"
   ]
  },
  {
   "cell_type": "code",
   "execution_count": 1,
   "metadata": {
    "colab": {},
    "colab_type": "code",
    "id": "2rUKNEUqfcr9"
   },
   "outputs": [],
   "source": [
    "import numpy as np\n",
    "import pandas as pd\n",
    "import matplotlib.pyplot as plt"
   ]
  },
  {
   "cell_type": "code",
   "execution_count": 2,
   "metadata": {
    "colab": {},
    "colab_type": "code",
    "id": "S3OHFP4AgPIQ"
   },
   "outputs": [],
   "source": [
    "# Carregando o conjunto iris dataset do link oficial\n",
    "dataIris = pd.read_csv('https://raw.githubusercontent.com/Jonathan-geo/perceptron-simples/master/Iris.csv')"
   ]
  },
  {
   "cell_type": "code",
   "execution_count": 3,
   "metadata": {
    "colab": {
     "base_uri": "https://localhost:8080/",
     "height": 204
    },
    "colab_type": "code",
    "id": "tFF-DkGogfy6",
    "outputId": "bf21793e-74cd-4990-82a5-f26da88f0b43"
   },
   "outputs": [
    {
     "data": {
      "text/html": [
       "<div>\n",
       "<style scoped>\n",
       "    .dataframe tbody tr th:only-of-type {\n",
       "        vertical-align: middle;\n",
       "    }\n",
       "\n",
       "    .dataframe tbody tr th {\n",
       "        vertical-align: top;\n",
       "    }\n",
       "\n",
       "    .dataframe thead th {\n",
       "        text-align: right;\n",
       "    }\n",
       "</style>\n",
       "<table border=\"1\" class=\"dataframe\">\n",
       "  <thead>\n",
       "    <tr style=\"text-align: right;\">\n",
       "      <th></th>\n",
       "      <th>Id</th>\n",
       "      <th>SepalLengthCm</th>\n",
       "      <th>SepalWidthCm</th>\n",
       "      <th>PetalLengthCm</th>\n",
       "      <th>PetalWidthCm</th>\n",
       "      <th>Species</th>\n",
       "    </tr>\n",
       "  </thead>\n",
       "  <tbody>\n",
       "    <tr>\n",
       "      <th>0</th>\n",
       "      <td>1</td>\n",
       "      <td>5.1</td>\n",
       "      <td>3.5</td>\n",
       "      <td>1.4</td>\n",
       "      <td>0.2</td>\n",
       "      <td>Iris-setosa</td>\n",
       "    </tr>\n",
       "    <tr>\n",
       "      <th>1</th>\n",
       "      <td>2</td>\n",
       "      <td>4.9</td>\n",
       "      <td>3.0</td>\n",
       "      <td>1.4</td>\n",
       "      <td>0.2</td>\n",
       "      <td>Iris-setosa</td>\n",
       "    </tr>\n",
       "    <tr>\n",
       "      <th>2</th>\n",
       "      <td>3</td>\n",
       "      <td>4.7</td>\n",
       "      <td>3.2</td>\n",
       "      <td>1.3</td>\n",
       "      <td>0.2</td>\n",
       "      <td>Iris-setosa</td>\n",
       "    </tr>\n",
       "    <tr>\n",
       "      <th>3</th>\n",
       "      <td>4</td>\n",
       "      <td>4.6</td>\n",
       "      <td>3.1</td>\n",
       "      <td>1.5</td>\n",
       "      <td>0.2</td>\n",
       "      <td>Iris-setosa</td>\n",
       "    </tr>\n",
       "    <tr>\n",
       "      <th>4</th>\n",
       "      <td>5</td>\n",
       "      <td>5.0</td>\n",
       "      <td>3.6</td>\n",
       "      <td>1.4</td>\n",
       "      <td>0.2</td>\n",
       "      <td>Iris-setosa</td>\n",
       "    </tr>\n",
       "  </tbody>\n",
       "</table>\n",
       "</div>"
      ],
      "text/plain": [
       "   Id  SepalLengthCm  SepalWidthCm  PetalLengthCm  PetalWidthCm      Species\n",
       "0   1            5.1           3.5            1.4           0.2  Iris-setosa\n",
       "1   2            4.9           3.0            1.4           0.2  Iris-setosa\n",
       "2   3            4.7           3.2            1.3           0.2  Iris-setosa\n",
       "3   4            4.6           3.1            1.5           0.2  Iris-setosa\n",
       "4   5            5.0           3.6            1.4           0.2  Iris-setosa"
      ]
     },
     "execution_count": 3,
     "metadata": {},
     "output_type": "execute_result"
    }
   ],
   "source": [
    "dataIris[:5]"
   ]
  },
  {
   "cell_type": "code",
   "execution_count": 4,
   "metadata": {},
   "outputs": [],
   "source": [
    "dataIris=dataIris.drop(columns=['Id'])"
   ]
  },
  {
   "cell_type": "code",
   "execution_count": 5,
   "metadata": {
    "colab": {
     "base_uri": "https://localhost:8080/",
     "height": 34
    },
    "colab_type": "code",
    "id": "MHVPIrGcxnDs",
    "outputId": "5d0a06df-b353-4d55-ace1-b68b590bed90"
   },
   "outputs": [
    {
     "data": {
      "text/plain": [
       "(150, 5)"
      ]
     },
     "execution_count": 5,
     "metadata": {},
     "output_type": "execute_result"
    }
   ],
   "source": [
    "dataIris.shape"
   ]
  },
  {
   "cell_type": "code",
   "execution_count": 6,
   "metadata": {},
   "outputs": [
    {
     "data": {
      "text/html": [
       "<div>\n",
       "<style scoped>\n",
       "    .dataframe tbody tr th:only-of-type {\n",
       "        vertical-align: middle;\n",
       "    }\n",
       "\n",
       "    .dataframe tbody tr th {\n",
       "        vertical-align: top;\n",
       "    }\n",
       "\n",
       "    .dataframe thead th {\n",
       "        text-align: right;\n",
       "    }\n",
       "</style>\n",
       "<table border=\"1\" class=\"dataframe\">\n",
       "  <thead>\n",
       "    <tr style=\"text-align: right;\">\n",
       "      <th></th>\n",
       "      <th>SepalLengthCm</th>\n",
       "      <th>SepalWidthCm</th>\n",
       "      <th>PetalLengthCm</th>\n",
       "      <th>PetalWidthCm</th>\n",
       "      <th>Species</th>\n",
       "    </tr>\n",
       "  </thead>\n",
       "  <tbody>\n",
       "    <tr>\n",
       "      <th>0</th>\n",
       "      <td>5.1</td>\n",
       "      <td>3.5</td>\n",
       "      <td>1.4</td>\n",
       "      <td>0.2</td>\n",
       "      <td>Iris-setosa</td>\n",
       "    </tr>\n",
       "    <tr>\n",
       "      <th>1</th>\n",
       "      <td>4.9</td>\n",
       "      <td>3.0</td>\n",
       "      <td>1.4</td>\n",
       "      <td>0.2</td>\n",
       "      <td>Iris-setosa</td>\n",
       "    </tr>\n",
       "    <tr>\n",
       "      <th>2</th>\n",
       "      <td>4.7</td>\n",
       "      <td>3.2</td>\n",
       "      <td>1.3</td>\n",
       "      <td>0.2</td>\n",
       "      <td>Iris-setosa</td>\n",
       "    </tr>\n",
       "    <tr>\n",
       "      <th>3</th>\n",
       "      <td>4.6</td>\n",
       "      <td>3.1</td>\n",
       "      <td>1.5</td>\n",
       "      <td>0.2</td>\n",
       "      <td>Iris-setosa</td>\n",
       "    </tr>\n",
       "    <tr>\n",
       "      <th>4</th>\n",
       "      <td>5.0</td>\n",
       "      <td>3.6</td>\n",
       "      <td>1.4</td>\n",
       "      <td>0.2</td>\n",
       "      <td>Iris-setosa</td>\n",
       "    </tr>\n",
       "    <tr>\n",
       "      <th>...</th>\n",
       "      <td>...</td>\n",
       "      <td>...</td>\n",
       "      <td>...</td>\n",
       "      <td>...</td>\n",
       "      <td>...</td>\n",
       "    </tr>\n",
       "    <tr>\n",
       "      <th>145</th>\n",
       "      <td>6.7</td>\n",
       "      <td>3.0</td>\n",
       "      <td>5.2</td>\n",
       "      <td>2.3</td>\n",
       "      <td>Iris-virginica</td>\n",
       "    </tr>\n",
       "    <tr>\n",
       "      <th>146</th>\n",
       "      <td>6.3</td>\n",
       "      <td>2.5</td>\n",
       "      <td>5.0</td>\n",
       "      <td>1.9</td>\n",
       "      <td>Iris-virginica</td>\n",
       "    </tr>\n",
       "    <tr>\n",
       "      <th>147</th>\n",
       "      <td>6.5</td>\n",
       "      <td>3.0</td>\n",
       "      <td>5.2</td>\n",
       "      <td>2.0</td>\n",
       "      <td>Iris-virginica</td>\n",
       "    </tr>\n",
       "    <tr>\n",
       "      <th>148</th>\n",
       "      <td>6.2</td>\n",
       "      <td>3.4</td>\n",
       "      <td>5.4</td>\n",
       "      <td>2.3</td>\n",
       "      <td>Iris-virginica</td>\n",
       "    </tr>\n",
       "    <tr>\n",
       "      <th>149</th>\n",
       "      <td>5.9</td>\n",
       "      <td>3.0</td>\n",
       "      <td>5.1</td>\n",
       "      <td>1.8</td>\n",
       "      <td>Iris-virginica</td>\n",
       "    </tr>\n",
       "  </tbody>\n",
       "</table>\n",
       "<p>150 rows × 5 columns</p>\n",
       "</div>"
      ],
      "text/plain": [
       "     SepalLengthCm  SepalWidthCm  PetalLengthCm  PetalWidthCm         Species\n",
       "0              5.1           3.5            1.4           0.2     Iris-setosa\n",
       "1              4.9           3.0            1.4           0.2     Iris-setosa\n",
       "2              4.7           3.2            1.3           0.2     Iris-setosa\n",
       "3              4.6           3.1            1.5           0.2     Iris-setosa\n",
       "4              5.0           3.6            1.4           0.2     Iris-setosa\n",
       "..             ...           ...            ...           ...             ...\n",
       "145            6.7           3.0            5.2           2.3  Iris-virginica\n",
       "146            6.3           2.5            5.0           1.9  Iris-virginica\n",
       "147            6.5           3.0            5.2           2.0  Iris-virginica\n",
       "148            6.2           3.4            5.4           2.3  Iris-virginica\n",
       "149            5.9           3.0            5.1           1.8  Iris-virginica\n",
       "\n",
       "[150 rows x 5 columns]"
      ]
     },
     "execution_count": 6,
     "metadata": {},
     "output_type": "execute_result"
    }
   ],
   "source": [
    "dataIris"
   ]
  },
  {
   "cell_type": "code",
   "execution_count": 7,
   "metadata": {
    "colab": {},
    "colab_type": "code",
    "id": "KbsDOHZHIeg2"
   },
   "outputs": [],
   "source": [
    "# Obtendo o vetor de alvos [y]  Iris Setosa e Iris versicolor.\n",
    "y = dataIris.iloc[0:100, 4].values"
   ]
  },
  {
   "cell_type": "code",
   "execution_count": 8,
   "metadata": {
    "colab": {
     "base_uri": "https://localhost:8080/",
     "height": 527
    },
    "colab_type": "code",
    "id": "o5EMCZoGI2e8",
    "outputId": "8b72dc6d-743c-4a51-b287-3ee261965b61"
   },
   "outputs": [
    {
     "data": {
      "text/plain": [
       "array(['Iris-setosa', 'Iris-setosa', 'Iris-setosa', 'Iris-setosa',\n",
       "       'Iris-setosa', 'Iris-setosa', 'Iris-setosa', 'Iris-setosa',\n",
       "       'Iris-setosa', 'Iris-setosa', 'Iris-setosa', 'Iris-setosa',\n",
       "       'Iris-setosa', 'Iris-setosa', 'Iris-setosa', 'Iris-setosa',\n",
       "       'Iris-setosa', 'Iris-setosa', 'Iris-setosa', 'Iris-setosa',\n",
       "       'Iris-setosa', 'Iris-setosa', 'Iris-setosa', 'Iris-setosa',\n",
       "       'Iris-setosa', 'Iris-setosa', 'Iris-setosa', 'Iris-setosa',\n",
       "       'Iris-setosa', 'Iris-setosa', 'Iris-setosa', 'Iris-setosa',\n",
       "       'Iris-setosa', 'Iris-setosa', 'Iris-setosa', 'Iris-setosa',\n",
       "       'Iris-setosa', 'Iris-setosa', 'Iris-setosa', 'Iris-setosa',\n",
       "       'Iris-setosa', 'Iris-setosa', 'Iris-setosa', 'Iris-setosa',\n",
       "       'Iris-setosa', 'Iris-setosa', 'Iris-setosa', 'Iris-setosa',\n",
       "       'Iris-setosa', 'Iris-setosa', 'Iris-versicolor', 'Iris-versicolor',\n",
       "       'Iris-versicolor', 'Iris-versicolor', 'Iris-versicolor',\n",
       "       'Iris-versicolor', 'Iris-versicolor', 'Iris-versicolor',\n",
       "       'Iris-versicolor', 'Iris-versicolor', 'Iris-versicolor',\n",
       "       'Iris-versicolor', 'Iris-versicolor', 'Iris-versicolor',\n",
       "       'Iris-versicolor', 'Iris-versicolor', 'Iris-versicolor',\n",
       "       'Iris-versicolor', 'Iris-versicolor', 'Iris-versicolor',\n",
       "       'Iris-versicolor', 'Iris-versicolor', 'Iris-versicolor',\n",
       "       'Iris-versicolor', 'Iris-versicolor', 'Iris-versicolor',\n",
       "       'Iris-versicolor', 'Iris-versicolor', 'Iris-versicolor',\n",
       "       'Iris-versicolor', 'Iris-versicolor', 'Iris-versicolor',\n",
       "       'Iris-versicolor', 'Iris-versicolor', 'Iris-versicolor',\n",
       "       'Iris-versicolor', 'Iris-versicolor', 'Iris-versicolor',\n",
       "       'Iris-versicolor', 'Iris-versicolor', 'Iris-versicolor',\n",
       "       'Iris-versicolor', 'Iris-versicolor', 'Iris-versicolor',\n",
       "       'Iris-versicolor', 'Iris-versicolor', 'Iris-versicolor',\n",
       "       'Iris-versicolor', 'Iris-versicolor', 'Iris-versicolor'],\n",
       "      dtype=object)"
      ]
     },
     "execution_count": 8,
     "metadata": {},
     "output_type": "execute_result"
    }
   ],
   "source": [
    "y"
   ]
  },
  {
   "cell_type": "code",
   "execution_count": 9,
   "metadata": {
    "colab": {
     "base_uri": "https://localhost:8080/",
     "height": 34
    },
    "colab_type": "code",
    "id": "pvqSpaNJI-tb",
    "outputId": "1ab26b1c-c348-47d6-833c-8b9ddbfaac5a"
   },
   "outputs": [
    {
     "data": {
      "text/plain": [
       "(100,)"
      ]
     },
     "execution_count": 9,
     "metadata": {},
     "output_type": "execute_result"
    }
   ],
   "source": [
    "y.shape"
   ]
  },
  {
   "cell_type": "code",
   "execution_count": 10,
   "metadata": {
    "colab": {},
    "colab_type": "code",
    "id": "WiS9oVWSI1Ws"
   },
   "outputs": [],
   "source": [
    "#Atribuindo um rótulo (numérico) as saídas. \n",
    "#Iris Setosa == -1 e Iris versicolorm 1. \n",
    "y = np.where(y == 'Iris-setosa', -1, 1)"
   ]
  },
  {
   "cell_type": "code",
   "execution_count": 11,
   "metadata": {
    "colab": {
     "base_uri": "https://localhost:8080/",
     "height": 119
    },
    "colab_type": "code",
    "id": "hX-BzUeBIh31",
    "outputId": "67b09620-c74f-4a7c-fe6e-39380205235a"
   },
   "outputs": [
    {
     "data": {
      "text/plain": [
       "array([-1, -1, -1, -1, -1, -1, -1, -1, -1, -1, -1, -1, -1, -1, -1, -1, -1,\n",
       "       -1, -1, -1, -1, -1, -1, -1, -1, -1, -1, -1, -1, -1, -1, -1, -1, -1,\n",
       "       -1, -1, -1, -1, -1, -1, -1, -1, -1, -1, -1, -1, -1, -1, -1, -1,  1,\n",
       "        1,  1,  1,  1,  1,  1,  1,  1,  1,  1,  1,  1,  1,  1,  1,  1,  1,\n",
       "        1,  1,  1,  1,  1,  1,  1,  1,  1,  1,  1,  1,  1,  1,  1,  1,  1,\n",
       "        1,  1,  1,  1,  1,  1,  1,  1,  1,  1,  1,  1,  1,  1,  1])"
      ]
     },
     "execution_count": 11,
     "metadata": {},
     "output_type": "execute_result"
    }
   ],
   "source": [
    "y"
   ]
  },
  {
   "cell_type": "code",
   "execution_count": 12,
   "metadata": {
    "colab": {},
    "colab_type": "code",
    "id": "0nCQ41H6It_t"
   },
   "outputs": [],
   "source": [
    "#Separendo a variável de entrada do modelo. Comprimento da sepala e da petala.\n",
    "#SepalLengthCm\n",
    "#PetalLengthCm\n",
    "x = dataIris.iloc[0:100, [0, 2]].values"
   ]
  },
  {
   "cell_type": "code",
   "execution_count": 13,
   "metadata": {
    "colab": {
     "base_uri": "https://localhost:8080/",
     "height": 187
    },
    "colab_type": "code",
    "id": "HGYS6d5iJ9bc",
    "outputId": "bf12d98e-c642-498f-9870-ed4446a5a39d"
   },
   "outputs": [
    {
     "data": {
      "text/plain": [
       "array([[5.1, 1.4],\n",
       "       [4.9, 1.4],\n",
       "       [4.7, 1.3],\n",
       "       [4.6, 1.5],\n",
       "       [5. , 1.4],\n",
       "       [5.4, 1.7],\n",
       "       [4.6, 1.4],\n",
       "       [5. , 1.5],\n",
       "       [4.4, 1.4],\n",
       "       [4.9, 1.5]])"
      ]
     },
     "execution_count": 13,
     "metadata": {},
     "output_type": "execute_result"
    }
   ],
   "source": [
    "x[0:10]"
   ]
  },
  {
   "cell_type": "code",
   "execution_count": 14,
   "metadata": {
    "colab": {},
    "colab_type": "code",
    "id": "j9dO-QPBgrhf"
   },
   "outputs": [],
   "source": [
    "# Adicionando a coluna do bias (necessário em algoritmos baseados em perceptron/gradiente)\n",
    "x = np.c_[np.ones(x.shape[0]), x]"
   ]
  },
  {
   "cell_type": "code",
   "execution_count": 15,
   "metadata": {
    "colab": {
     "base_uri": "https://localhost:8080/",
     "height": 187
    },
    "colab_type": "code",
    "id": "NUPttYinLLed",
    "outputId": "b5bff8e7-1bff-4d1a-c378-717705bcd4f0"
   },
   "outputs": [
    {
     "data": {
      "text/plain": [
       "array([[1. , 5.1, 1.4],\n",
       "       [1. , 4.9, 1.4],\n",
       "       [1. , 4.7, 1.3],\n",
       "       [1. , 4.6, 1.5],\n",
       "       [1. , 5. , 1.4],\n",
       "       [1. , 5.4, 1.7],\n",
       "       [1. , 4.6, 1.4],\n",
       "       [1. , 5. , 1.5],\n",
       "       [1. , 4.4, 1.4],\n",
       "       [1. , 4.9, 1.5]])"
      ]
     },
     "execution_count": 15,
     "metadata": {},
     "output_type": "execute_result"
    }
   ],
   "source": [
    "x[0:10]"
   ]
  },
  {
   "cell_type": "code",
   "execution_count": 16,
   "metadata": {
    "colab": {
     "base_uri": "https://localhost:8080/",
     "height": 34
    },
    "colab_type": "code",
    "id": "4jQRFJTDWGp6",
    "outputId": "93be6178-ed6b-4401-a3fd-3df89607f890"
   },
   "outputs": [
    {
     "data": {
      "text/plain": [
       "(100, 3)"
      ]
     },
     "execution_count": 16,
     "metadata": {},
     "output_type": "execute_result"
    }
   ],
   "source": [
    "x.shape"
   ]
  },
  {
   "cell_type": "code",
   "execution_count": null,
   "metadata": {
    "colab": {},
    "colab_type": "code",
    "id": "aCgV9DRxWOY9"
   },
   "outputs": [],
   "source": []
  },
  {
   "cell_type": "code",
   "execution_count": 17,
   "metadata": {
    "colab": {
     "base_uri": "https://localhost:8080/",
     "height": 280
    },
    "colab_type": "code",
    "id": "dYStog3oxiq5",
    "outputId": "4fdb19a2-7e14-46b8-b98f-f54c72d08788"
   },
   "outputs": [
    {
     "data": {
      "image/png": "[encoded data removed]",
      "text/plain": [
       "<Figure size 432x288 with 1 Axes>"
      ]
     },
     "metadata": {
      "needs_background": "light"
     },
     "output_type": "display_data"
    }
   ],
   "source": [
    "# Visualizando os dados (estamos pulando a coluna do bias)\n",
    "plt.scatter(x[:50, 1], x[:50, 2],\n",
    "            color='red', marker='o', label='setosa')\n",
    "\n",
    "plt.scatter(x[50:100, 1], x[50:100, 2],\n",
    "             color='blue', marker='x', label='versicolor')\n",
    "\n",
    "plt.xlabel('largura da sépala [cm]')\n",
    "plt.ylabel('largura da pétala [cm]')\n",
    "plt.legend(loc='upper left') \n",
    "plt.show()"
   ]
  },
  {
   "cell_type": "code",
   "execution_count": 18,
   "metadata": {
    "colab": {},
    "colab_type": "code",
    "id": "4m7XwzXZL_m-"
   },
   "outputs": [],
   "source": [
    "#Dividindo o dataset em treino e teste. \n",
    "from sklearn import model_selection\n",
    "\n",
    "# Split em conjunto de treino e teste\n",
    "x_train, x_test, y_train, y_test = model_selection.train_test_split(x, y, test_size=0.2, random_state=0)"
   ]
  },
  {
   "cell_type": "code",
   "execution_count": 19,
   "metadata": {
    "colab": {
     "base_uri": "https://localhost:8080/",
     "height": 102
    },
    "colab_type": "code",
    "id": "3xYyn-9mnvvd",
    "outputId": "8524cd04-4b69-4372-85b4-b2138dc279f6"
   },
   "outputs": [
    {
     "data": {
      "text/plain": [
       "array([[1. , 5. , 1.6],\n",
       "       [1. , 6. , 4. ],\n",
       "       [1. , 4.6, 1.5],\n",
       "       [1. , 6.1, 4. ],\n",
       "       [1. , 4.8, 1.4]])"
      ]
     },
     "execution_count": 19,
     "metadata": {},
     "output_type": "execute_result"
    }
   ],
   "source": [
    "x_train[:5]"
   ]
  },
  {
   "cell_type": "code",
   "execution_count": 20,
   "metadata": {
    "colab": {
     "base_uri": "https://localhost:8080/",
     "height": 34
    },
    "colab_type": "code",
    "id": "CRoksrlDn_5P",
    "outputId": "9dd2c31d-4996-4d16-ac38-f28523dea497"
   },
   "outputs": [
    {
     "data": {
      "text/plain": [
       "(80, 3)"
      ]
     },
     "execution_count": 20,
     "metadata": {},
     "output_type": "execute_result"
    }
   ],
   "source": [
    "x_train.shape"
   ]
  },
  {
   "cell_type": "code",
   "execution_count": 21,
   "metadata": {
    "colab": {
     "base_uri": "https://localhost:8080/",
     "height": 102
    },
    "colab_type": "code",
    "id": "N36UpQfKn1Yq",
    "outputId": "90798ee2-7fd8-4412-bbb2-d188529a27be"
   },
   "outputs": [
    {
     "data": {
      "text/plain": [
       "array([-1,  1, -1,  1, -1, -1, -1,  1,  1,  1,  1,  1,  1,  1,  1, -1, -1,\n",
       "        1,  1,  1, -1,  1, -1, -1, -1, -1, -1, -1, -1, -1,  1,  1, -1, -1,\n",
       "       -1,  1, -1, -1, -1,  1, -1, -1,  1,  1,  1,  1, -1,  1, -1,  1, -1,\n",
       "       -1, -1,  1,  1,  1, -1,  1,  1,  1, -1, -1,  1, -1, -1,  1,  1, -1,\n",
       "        1,  1,  1, -1, -1,  1, -1,  1,  1,  1, -1, -1])"
      ]
     },
     "execution_count": 21,
     "metadata": {},
     "output_type": "execute_result"
    }
   ],
   "source": [
    "y_train"
   ]
  },
  {
   "cell_type": "code",
   "execution_count": 22,
   "metadata": {
    "colab": {
     "base_uri": "https://localhost:8080/",
     "height": 34
    },
    "colab_type": "code",
    "id": "QNomM4Vfxg04",
    "outputId": "359b4979-233e-42ee-ef22-42fab388dcdb"
   },
   "outputs": [
    {
     "data": {
      "text/plain": [
       "(80,)"
      ]
     },
     "execution_count": 22,
     "metadata": {},
     "output_type": "execute_result"
    }
   ],
   "source": [
    "y_train.shape"
   ]
  },
  {
   "cell_type": "code",
   "execution_count": 23,
   "metadata": {
    "colab": {},
    "colab_type": "code",
    "id": "v8vxPJlvMARk"
   },
   "outputs": [],
   "source": [
    "#Função do ŷ ou h\n",
    "def h(x, thetas):\n",
    "    #A função dot faz multiplicação de matriz\n",
    "    #x.dot(thetas) é o mesmo que Σ(Xi.Wi)\n",
    "    #a função where faz o papel da função degrau. Se o \n",
    "    #output de x.dot(thetas) for maior que 0.0 retorne 1\n",
    "    #se for menor retorne -1. \n",
    "    return np.where(x.dot(thetas) >= 0.0, 1, -1)"
   ]
  },
  {
   "cell_type": "code",
   "execution_count": 24,
   "metadata": {
    "colab": {},
    "colab_type": "code",
    "id": "pq7NHkAPMG9l"
   },
   "outputs": [],
   "source": [
    "def perceptron(x, y, iterations, alpha):\n",
    "    #Definindo os pesos = array([0., 0., 0.])\n",
    "    thetas = np.zeros(x_train.shape[1])\n",
    "    #Repetir por dez (por exemplo) vezes\n",
    "    for i in range(iterations):\n",
    "        #Para cada entrada x e saída y. \n",
    "        for xi, yi in zip(x_train, y_train):\n",
    "            #Fórmula do perceptron para ajuste dos pesos\n",
    "            # [w = w + α * Et . xi]\n",
    "            # [Et = yi - ŷ]  para ŷ = h \n",
    "            # ŷ ou h (é o y estimado, ou seja, )\n",
    "            thetas = thetas + alpha * (yi - h(xi, thetas)) * xi\n",
    "    return thetas"
   ]
  },
  {
   "cell_type": "code",
   "execution_count": 25,
   "metadata": {
    "colab": {},
    "colab_type": "code",
    "id": "lpBOvH3BxwTh"
   },
   "outputs": [],
   "source": [
    "# Treinando nosso modelo...\n",
    "#Iterações\n",
    "iterations = 10 \n",
    "#Coef-Aprend\n",
    "alpha = 0.01\n",
    "#Chamada-Func\n",
    "#Thetas é o mesmo que pesos ou w\n",
    "thetas = perceptron(x_train, y_train, iterations, alpha)"
   ]
  },
  {
   "cell_type": "code",
   "execution_count": 26,
   "metadata": {
    "colab": {
     "base_uri": "https://localhost:8080/",
     "height": 34
    },
    "colab_type": "code",
    "id": "-LKubyEzMjfa",
    "outputId": "598f597d-4b40-4f89-f1ce-dfbbed7b5857"
   },
   "outputs": [
    {
     "name": "stdout",
     "output_type": "stream",
     "text": [
      "[-0.04  -0.112  0.216]\n"
     ]
    }
   ],
   "source": [
    "#Pesos de W balanceados. (Uma analogia com a 'Equação da reta')\n",
    "thetasFinal = thetas\n",
    "print(thetasFinal)"
   ]
  },
  {
   "cell_type": "code",
   "execution_count": 27,
   "metadata": {
    "colab": {
     "base_uri": "https://localhost:8080/",
     "height": 34
    },
    "colab_type": "code",
    "id": "gwX38VLAtQpS",
    "outputId": "a0e1aeb7-b278-4f32-affa-0fe0fd0a0fac"
   },
   "outputs": [
    {
     "data": {
      "text/plain": [
       "(20, 3)"
      ]
     },
     "execution_count": 27,
     "metadata": {},
     "output_type": "execute_result"
    }
   ],
   "source": [
    "x_test.shape"
   ]
  },
  {
   "cell_type": "code",
   "execution_count": 28,
   "metadata": {
    "colab": {
     "base_uri": "https://localhost:8080/",
     "height": 357
    },
    "colab_type": "code",
    "id": "kdTOJe4JquYM",
    "outputId": "7d723f09-46ec-4a59-ce14-7585ffc7b263"
   },
   "outputs": [
    {
     "data": {
      "text/plain": [
       "array([[1. , 5. , 1.6],\n",
       "       [1. , 6.7, 4.7],\n",
       "       [1. , 4.7, 1.3],\n",
       "       [1. , 5.7, 4.5],\n",
       "       [1. , 6.6, 4.4],\n",
       "       [1. , 5. , 3.3],\n",
       "       [1. , 5.4, 1.3],\n",
       "       [1. , 6.1, 4.7],\n",
       "       [1. , 6.5, 4.6],\n",
       "       [1. , 5.7, 4.2],\n",
       "       [1. , 5.5, 4. ],\n",
       "       [1. , 5.8, 4. ],\n",
       "       [1. , 6. , 4.5],\n",
       "       [1. , 4.3, 1.1],\n",
       "       [1. , 5. , 1.5],\n",
       "       [1. , 4.8, 1.6],\n",
       "       [1. , 4.6, 1. ],\n",
       "       [1. , 4.8, 1.9],\n",
       "       [1. , 5.5, 1.4],\n",
       "       [1. , 4.4, 1.4]])"
      ]
     },
     "execution_count": 28,
     "metadata": {},
     "output_type": "execute_result"
    }
   ],
   "source": [
    "x_test"
   ]
  },
  {
   "cell_type": "code",
   "execution_count": 29,
   "metadata": {
    "colab": {
     "base_uri": "https://localhost:8080/",
     "height": 51
    },
    "colab_type": "code",
    "id": "4rx0x58zvwbW",
    "outputId": "86135cbc-25e7-415c-980d-2b595a632766"
   },
   "outputs": [
    {
     "data": {
      "text/plain": [
       "array([-1,  1, -1,  1,  1,  1, -1,  1,  1,  1,  1,  1,  1, -1, -1, -1, -1,\n",
       "       -1, -1, -1])"
      ]
     },
     "execution_count": 29,
     "metadata": {},
     "output_type": "execute_result"
    }
   ],
   "source": [
    "y_test"
   ]
  },
  {
   "cell_type": "code",
   "execution_count": 30,
   "metadata": {
    "colab": {},
    "colab_type": "code",
    "id": "0wr3aL3mMj_B"
   },
   "outputs": [],
   "source": [
    "#Teste\n",
    "def hFinal(x_test, thetasFinal):\n",
    "  return np.where(x_test.dot(thetasFinal) >= 0.0, 1, -1)"
   ]
  },
  {
   "cell_type": "code",
   "execution_count": 31,
   "metadata": {
    "colab": {},
    "colab_type": "code",
    "id": "UUBuU7ukMkHq"
   },
   "outputs": [],
   "source": [
    "y_est = hFinal(x_test, thetasFinal)"
   ]
  },
  {
   "cell_type": "code",
   "execution_count": 32,
   "metadata": {
    "colab": {
     "base_uri": "https://localhost:8080/",
     "height": 68
    },
    "colab_type": "code",
    "id": "NcUv2li6x8e0",
    "outputId": "3d0e7a6a-bdd1-469e-e0de-fcbb2b2fa113"
   },
   "outputs": [
    {
     "data": {
      "text/plain": [
       "array([ True,  True,  True,  True,  True,  True,  True,  True,  True,\n",
       "        True,  True,  True,  True,  True,  True,  True,  True,  True,\n",
       "        True,  True])"
      ]
     },
     "execution_count": 32,
     "metadata": {},
     "output_type": "execute_result"
    }
   ],
   "source": [
    "#Acertos\n",
    "y_est == y_test"
   ]
  },
  {
   "cell_type": "markdown",
   "metadata": {
    "colab": {},
    "colab_type": "code",
    "id": "4Zlr5Ve7ybaO"
   },
   "source": [
    "## Considerações Finais\n",
    "\n",
    "Podemos observar que ao descobrir os pesos balanceados [-0.04  -0.112  0.216] o modelo pode acertar todoas as nossos dados de teste. "
   ]
  },
  {
   "cell_type": "markdown",
   "metadata": {
    "colab_type": "text",
    "id": "9cclp3rTzEEq"
   },
   "source": [
    "Referencias:\n",
    "\n",
    "- Python Machine Learn - Sebastian Raschka https://www.amazon.com.br/Python-Machine-Learning-Sebastian-Raschka/dp/1789955750/ref=pd_sbs_14_t_0/146-7290337-7783406?_encoding=UTF8&pd_rd_i=1789955750&pd_rd_r=5750d573-f6c1-4f84-acf3-a26698a9fa4c&pd_rd_w=RXeqA&pd_rd_wg=5MTyX&pf_rd_p=adb10074-dc46-4d48-9abd-ebbbd99776aa&pf_rd_r=5X5JXYVPCJ010JQ0EEV3&psc=1&refRID=5X5JXYVPCJ010JQ0EEV3\n",
    "\n",
    "- http://wiki.icmc.usp.br/images/7/7b/Perceptron.pdf\n",
    "\n",
    "- https://juliocprocha.blog/2017/07/27/perceptron-para-classificacao-passo-a-passo/"
   ]
  },
  {
   "cell_type": "markdown",
   "metadata": {
    "colab": {},
    "colab_type": "code",
    "id": "zwkZPkjG2lux"
   },
   "source": [
    "# Perceptron Simples - Modelo II"
   ]
  },
  {
   "cell_type": "markdown",
   "metadata": {},
   "source": [
    "Neste segundo modelo iremos fazer o uso de um modo mais manual de elaboração, neste sentido poderemos ver com mais detalhe o funcionamento do algorítmo Perceptron."
   ]
  },
  {
   "cell_type": "code",
   "execution_count": 33,
   "metadata": {},
   "outputs": [],
   "source": [
    "import numpy as np\n",
    "import matplotlib.pyplot as plt"
   ]
  },
  {
   "cell_type": "code",
   "execution_count": 34,
   "metadata": {},
   "outputs": [
    {
     "data": {
      "text/plain": [
       "array([113,  98, 107, 122, 115, 120])"
      ]
     },
     "execution_count": 34,
     "metadata": {},
     "output_type": "execute_result"
    }
   ],
   "source": [
    "#Criando um array de valores x1 \n",
    "peso = np.array([113, 98, 107, 122, 115, 120])\n",
    "peso"
   ]
  },
  {
   "cell_type": "code",
   "execution_count": 35,
   "metadata": {},
   "outputs": [
    {
     "data": {
      "text/plain": [
       "array([6.8, 3.6, 5.2, 4.7, 2.9, 4.2])"
      ]
     },
     "execution_count": 35,
     "metadata": {},
     "output_type": "execute_result"
    }
   ],
   "source": [
    "#Criando um array de valores x2\n",
    "ph = np.array([6.8, 3.6, 5.2, 4.7, 2.9, 4.2])\n",
    "ph"
   ]
  },
  {
   "cell_type": "code",
   "execution_count": 36,
   "metadata": {},
   "outputs": [
    {
     "data": {
      "text/plain": [
       "array([[113. ,  98. , 107. , 122. , 115. , 120. ],\n",
       "       [  6.8,   3.6,   5.2,   4.7,   2.9,   4.2]])"
      ]
     },
     "execution_count": 36,
     "metadata": {},
     "output_type": "execute_result"
    }
   ],
   "source": [
    "# Unindo os atributos em uma matriz (X)\n",
    "X = np.vstack((peso, ph))\n",
    "X"
   ]
  },
  {
   "cell_type": "code",
   "execution_count": 37,
   "metadata": {},
   "outputs": [
    {
     "data": {
      "text/plain": [
       "(2, 6)"
      ]
     },
     "execution_count": 37,
     "metadata": {},
     "output_type": "execute_result"
    }
   ],
   "source": [
    "X.shape"
   ]
  },
  {
   "cell_type": "markdown",
   "metadata": {},
   "source": [
    "## Métodos de Seleção de dado em Array"
   ]
  },
  {
   "cell_type": "code",
   "execution_count": 38,
   "metadata": {},
   "outputs": [
    {
     "data": {
      "text/plain": [
       "array([[113. ,  98. , 107. , 122. , 115. , 120. ],\n",
       "       [  6.8,   3.6,   5.2,   4.7,   2.9,   4.2]])"
      ]
     },
     "execution_count": 38,
     "metadata": {},
     "output_type": "execute_result"
    }
   ],
   "source": [
    "X"
   ]
  },
  {
   "cell_type": "code",
   "execution_count": 39,
   "metadata": {},
   "outputs": [
    {
     "data": {
      "text/plain": [
       "array([[113.,  98., 107.]])"
      ]
     },
     "execution_count": 39,
     "metadata": {},
     "output_type": "execute_result"
    }
   ],
   "source": [
    "X[:1, :3]"
   ]
  },
  {
   "cell_type": "code",
   "execution_count": 40,
   "metadata": {},
   "outputs": [
    {
     "data": {
      "text/plain": [
       "array([[6.8, 3.6, 5.2]])"
      ]
     },
     "execution_count": 40,
     "metadata": {},
     "output_type": "execute_result"
    }
   ],
   "source": [
    "X[1:2, :3]"
   ]
  },
  {
   "cell_type": "code",
   "execution_count": 41,
   "metadata": {},
   "outputs": [
    {
     "data": {
      "text/plain": [
       "array([[122., 115., 120.]])"
      ]
     },
     "execution_count": 41,
     "metadata": {},
     "output_type": "execute_result"
    }
   ],
   "source": [
    "X[:1, 3:]"
   ]
  },
  {
   "cell_type": "code",
   "execution_count": 42,
   "metadata": {},
   "outputs": [
    {
     "data": {
      "text/plain": [
       "array([[4.7, 2.9, 4.2]])"
      ]
     },
     "execution_count": 42,
     "metadata": {},
     "output_type": "execute_result"
    }
   ],
   "source": [
    "X[1:2, 3:]"
   ]
  },
  {
   "cell_type": "markdown",
   "metadata": {},
   "source": [
    "## Visualização dos Dados"
   ]
  },
  {
   "cell_type": "code",
   "execution_count": 43,
   "metadata": {},
   "outputs": [
    {
     "data": {
      "image/png": "[encoded data removed]",
      "text/plain": [
       "<Figure size 432x288 with 1 Axes>"
      ]
     },
     "metadata": {
      "needs_background": "light"
     },
     "output_type": "display_data"
    }
   ],
   "source": [
    "# Visualizando os dados (estamos pulando a coluna do bias)\n",
    "plt.scatter(X[:1, :3], X[1:2, :3],\n",
    "color='red', marker='o', label='Valores -1')\n",
    "\n",
    "plt.scatter(X[:1, 3:], X[1:2, 3:],\n",
    "color='blue', marker='x', label='Valores 1')\n",
    "\n",
    "plt.xlabel('peso')\n",
    "plt.ylabel('ph')\n",
    "plt.legend(loc='upper left')\n",
    "plt.show()"
   ]
  },
  {
   "cell_type": "code",
   "execution_count": 44,
   "metadata": {},
   "outputs": [
    {
     "data": {
      "image/png": "[encoded data removed]",
      "text/plain": [
       "<Figure size 432x288 with 1 Axes>"
      ]
     },
     "metadata": {
      "needs_background": "light"
     },
     "output_type": "display_data"
    }
   ],
   "source": [
    "# Visualização Simples\n",
    "plt.scatter(X[0], X[1])\n",
    "plt.xlabel('peso')\n",
    "plt.ylabel('ph')\n",
    "plt.show()"
   ]
  },
  {
   "cell_type": "markdown",
   "metadata": {},
   "source": [
    "## Preparando o Algoritmo "
   ]
  },
  {
   "cell_type": "code",
   "execution_count": 45,
   "metadata": {},
   "outputs": [
    {
     "data": {
      "text/plain": [
       "array([-1, -1, -1,  1,  1,  1])"
      ]
     },
     "execution_count": 45,
     "metadata": {},
     "output_type": "execute_result"
    }
   ],
   "source": [
    "# Resultados esperados (Y)\n",
    "y = np.array([-1, -1, -1, 1, 1, 1])\n",
    "y"
   ]
  },
  {
   "cell_type": "code",
   "execution_count": 46,
   "metadata": {
    "colab": {
     "base_uri": "https://localhost:8080/",
     "height": 34
    },
    "colab_type": "code",
    "executionInfo": {
     "elapsed": 978,
     "status": "ok",
     "timestamp": 1578407381471,
     "user": {
      "displayName": "Jonathan C. L. Domingos",
      "photoUrl": "https://lh3.googleusercontent.com/a-/AAuE7mDl7sOZzNq1bdY8g1vS2bhVU_8UkrtEoUwBEUKmhA=s64",
      "userId": "08306106563297422041"
     },
     "user_tz": 180
    },
    "id": "pfNaFBLKXeX8",
    "outputId": "1bd4baef-1d1e-4bbe-d1f1-f609db30e365"
   },
   "outputs": [
    {
     "data": {
      "text/plain": [
       "array([[0., 0., 0.]])"
      ]
     },
     "execution_count": 46,
     "metadata": {},
     "output_type": "execute_result"
    }
   ],
   "source": [
    "# Vetor de Pesos (Treino)\n",
    "W = np.zeros([1,3])\n",
    "W"
   ]
  },
  {
   "cell_type": "code",
   "execution_count": 47,
   "metadata": {
    "colab": {
     "base_uri": "https://localhost:8080/",
     "height": 34
    },
    "colab_type": "code",
    "executionInfo": {
     "elapsed": 1073,
     "status": "ok",
     "timestamp": 1578409269629,
     "user": {
      "displayName": "Jonathan C. L. Domingos",
      "photoUrl": "https://lh3.googleusercontent.com/a-/AAuE7mDl7sOZzNq1bdY8g1vS2bhVU_8UkrtEoUwBEUKmhA=s64",
      "userId": "08306106563297422041"
     },
     "user_tz": 180
    },
    "id": "G348zOx0Y0dc",
    "outputId": "5427edce-83c5-479f-a7e7-14c9437db345"
   },
   "outputs": [
    {
     "data": {
      "text/plain": [
       "array([0., 0., 0., 0., 0., 0., 0., 0., 0., 0., 0., 0.])"
      ]
     },
     "execution_count": 47,
     "metadata": {},
     "output_type": "execute_result"
    }
   ],
   "source": [
    "# Array para armazenar os erros\n",
    "e = np.zeros(12)\n",
    "e"
   ]
  },
  {
   "cell_type": "code",
   "execution_count": 48,
   "metadata": {
    "colab": {},
    "colab_type": "code",
    "id": "ysuV9sO_ZSJs"
   },
   "outputs": [],
   "source": [
    "def funcaoAtivacao(valor):\n",
    "  # Função de ativação (degrau bipolar)\n",
    "  if valor < 0.0:\n",
    "    return (-1)\n",
    "  else:\n",
    "    return (1)"
   ]
  },
  {
   "cell_type": "code",
   "execution_count": 49,
   "metadata": {
    "colab": {
     "base_uri": "https://localhost:8080/",
     "height": 1000
    },
    "colab_type": "code",
    "executionInfo": {
     "elapsed": 1538,
     "status": "ok",
     "timestamp": 1578409273590,
     "user": {
      "displayName": "Jonathan C. L. Domingos",
      "photoUrl": "https://lh3.googleusercontent.com/a-/AAuE7mDl7sOZzNq1bdY8g1vS2bhVU_8UkrtEoUwBEUKmhA=s64",
      "userId": "08306106563297422041"
     },
     "user_tz": 180
    },
    "id": "BWUG2caGaF0j",
    "outputId": "9fa773a6-05c8-418b-c231-c98c4658b88c"
   },
   "outputs": [
    {
     "name": "stdout",
     "output_type": "stream",
     "text": [
      "este é o xb(inserindo Bias no vetor de entrada)............... [  1.  113.    6.8]\n",
      "este é o W(vetor de pesos).................................... [[0. 0. 0.]]\n",
      "este é o V(multiplicação/soma vetorial (pesos x entradas)).... [0.]\n",
      "este é o Yr(pega o V e passa pela função ativação)............ 1\n",
      "este é o y[k](Valor de Y real (Yr))........................... -1\n",
      "este é o e[k](Cálculo do erro (Y - Yr))....................... -2.0\n",
      "este é o W(pesos corrigido (W = W + eta*e[k]*xb))............. [[ -0.2  -22.6   -1.36]]\n",
      "\n",
      "-------------------------------loop---------------------------------\n",
      "\n",
      "este é o xb(inserindo Bias no vetor de entrada)............... [ 1.  98.   3.6]\n",
      "este é o W(vetor de pesos).................................... [[ -0.2  -22.6   -1.36]]\n",
      "este é o V(multiplicação/soma vetorial (pesos x entradas)).... [-2219.896]\n",
      "este é o Yr(pega o V e passa pela função ativação)............ -1\n",
      "este é o y[k](Valor de Y real (Yr))........................... -1\n",
      "este é o e[k](Cálculo do erro (Y - Yr))....................... 0.0\n",
      "este é o W(pesos corrigido (W = W + eta*e[k]*xb))............. [[ -0.2  -22.6   -1.36]]\n",
      "\n",
      "-------------------------------loop---------------------------------\n",
      "\n",
      "este é o xb(inserindo Bias no vetor de entrada)............... [  1.  107.    5.2]\n",
      "este é o W(vetor de pesos).................................... [[ -0.2  -22.6   -1.36]]\n",
      "este é o V(multiplicação/soma vetorial (pesos x entradas)).... [-2425.472]\n",
      "este é o Yr(pega o V e passa pela função ativação)............ -1\n",
      "este é o y[k](Valor de Y real (Yr))........................... -1\n",
      "este é o e[k](Cálculo do erro (Y - Yr))....................... 0.0\n",
      "este é o W(pesos corrigido (W = W + eta*e[k]*xb))............. [[ -0.2  -22.6   -1.36]]\n",
      "\n",
      "-------------------------------loop---------------------------------\n",
      "\n",
      "este é o xb(inserindo Bias no vetor de entrada)............... [  1.  122.    4.7]\n",
      "este é o W(vetor de pesos).................................... [[ -0.2  -22.6   -1.36]]\n",
      "este é o V(multiplicação/soma vetorial (pesos x entradas)).... [-2763.792]\n",
      "este é o Yr(pega o V e passa pela função ativação)............ -1\n",
      "este é o y[k](Valor de Y real (Yr))........................... 1\n",
      "este é o e[k](Cálculo do erro (Y - Yr))....................... 2.0\n",
      "este é o W(pesos corrigido (W = W + eta*e[k]*xb))............. [[ 0.    1.8  -0.42]]\n",
      "\n",
      "-------------------------------loop---------------------------------\n",
      "\n",
      "este é o xb(inserindo Bias no vetor de entrada)............... [  1.  115.    2.9]\n",
      "este é o W(vetor de pesos).................................... [[ 0.    1.8  -0.42]]\n",
      "este é o V(multiplicação/soma vetorial (pesos x entradas)).... [205.782]\n",
      "este é o Yr(pega o V e passa pela função ativação)............ 1\n",
      "este é o y[k](Valor de Y real (Yr))........................... 1\n",
      "este é o e[k](Cálculo do erro (Y - Yr))....................... 0.0\n",
      "este é o W(pesos corrigido (W = W + eta*e[k]*xb))............. [[ 0.    1.8  -0.42]]\n",
      "\n",
      "-------------------------------loop---------------------------------\n",
      "\n",
      "este é o xb(inserindo Bias no vetor de entrada)............... [  1.  120.    4.2]\n",
      "este é o W(vetor de pesos).................................... [[ 0.    1.8  -0.42]]\n",
      "este é o V(multiplicação/soma vetorial (pesos x entradas)).... [214.236]\n",
      "este é o Yr(pega o V e passa pela função ativação)............ 1\n",
      "este é o y[k](Valor de Y real (Yr))........................... 1\n",
      "este é o e[k](Cálculo do erro (Y - Yr))....................... 0.0\n",
      "este é o W(pesos corrigido (W = W + eta*e[k]*xb))............. [[ 0.    1.8  -0.42]]\n",
      "\n",
      "-------------------------------loop---------------------------------\n",
      "\n",
      "este é o xb(inserindo Bias no vetor de entrada)............... [  1.  113.    6.8]\n",
      "este é o W(vetor de pesos).................................... [[ 0.    1.8  -0.42]]\n",
      "este é o V(multiplicação/soma vetorial (pesos x entradas)).... [200.544]\n",
      "este é o Yr(pega o V e passa pela função ativação)............ 1\n",
      "este é o y[k](Valor de Y real (Yr))........................... -1\n",
      "este é o e[k](Cálculo do erro (Y - Yr))....................... -2.0\n",
      "este é o W(pesos corrigido (W = W + eta*e[k]*xb))............. [[ -0.2  -20.8   -1.78]]\n",
      "\n",
      "-------------------------------loop---------------------------------\n",
      "\n",
      "este é o xb(inserindo Bias no vetor de entrada)............... [ 1.  98.   3.6]\n",
      "este é o W(vetor de pesos).................................... [[ -0.2  -20.8   -1.78]]\n",
      "este é o V(multiplicação/soma vetorial (pesos x entradas)).... [-2045.008]\n",
      "este é o Yr(pega o V e passa pela função ativação)............ -1\n",
      "este é o y[k](Valor de Y real (Yr))........................... -1\n",
      "este é o e[k](Cálculo do erro (Y - Yr))....................... 0.0\n",
      "este é o W(pesos corrigido (W = W + eta*e[k]*xb))............. [[ -0.2  -20.8   -1.78]]\n",
      "\n",
      "-------------------------------loop---------------------------------\n",
      "\n",
      "este é o xb(inserindo Bias no vetor de entrada)............... [  1.  107.    5.2]\n",
      "este é o W(vetor de pesos).................................... [[ -0.2  -20.8   -1.78]]\n",
      "este é o V(multiplicação/soma vetorial (pesos x entradas)).... [-2235.056]\n",
      "este é o Yr(pega o V e passa pela função ativação)............ -1\n",
      "este é o y[k](Valor de Y real (Yr))........................... -1\n",
      "este é o e[k](Cálculo do erro (Y - Yr))....................... 0.0\n",
      "este é o W(pesos corrigido (W = W + eta*e[k]*xb))............. [[ -0.2  -20.8   -1.78]]\n",
      "\n",
      "-------------------------------loop---------------------------------\n",
      "\n",
      "este é o xb(inserindo Bias no vetor de entrada)............... [  1.  122.    4.7]\n",
      "este é o W(vetor de pesos).................................... [[ -0.2  -20.8   -1.78]]\n",
      "este é o V(multiplicação/soma vetorial (pesos x entradas)).... [-2546.166]\n",
      "este é o Yr(pega o V e passa pela função ativação)............ -1\n",
      "este é o y[k](Valor de Y real (Yr))........................... 1\n",
      "este é o e[k](Cálculo do erro (Y - Yr))....................... 2.0\n",
      "este é o W(pesos corrigido (W = W + eta*e[k]*xb))............. [[ 0.    3.6  -0.84]]\n",
      "\n",
      "-------------------------------loop---------------------------------\n",
      "\n",
      "este é o xb(inserindo Bias no vetor de entrada)............... [  1.  115.    2.9]\n",
      "este é o W(vetor de pesos).................................... [[ 0.    3.6  -0.84]]\n",
      "este é o V(multiplicação/soma vetorial (pesos x entradas)).... [411.564]\n",
      "este é o Yr(pega o V e passa pela função ativação)............ 1\n",
      "este é o y[k](Valor de Y real (Yr))........................... 1\n",
      "este é o e[k](Cálculo do erro (Y - Yr))....................... 0.0\n",
      "este é o W(pesos corrigido (W = W + eta*e[k]*xb))............. [[ 0.    3.6  -0.84]]\n",
      "\n",
      "-------------------------------loop---------------------------------\n",
      "\n",
      "este é o xb(inserindo Bias no vetor de entrada)............... [  1.  120.    4.2]\n",
      "este é o W(vetor de pesos).................................... [[ 0.    3.6  -0.84]]\n",
      "este é o V(multiplicação/soma vetorial (pesos x entradas)).... [428.472]\n",
      "este é o Yr(pega o V e passa pela função ativação)............ 1\n",
      "este é o y[k](Valor de Y real (Yr))........................... 1\n",
      "este é o e[k](Cálculo do erro (Y - Yr))....................... 0.0\n",
      "este é o W(pesos corrigido (W = W + eta*e[k]*xb))............. [[ 0.    3.6  -0.84]]\n",
      "\n",
      "-------------------------------loop---------------------------------\n",
      "\n",
      "vetor de erros (e) = [-2.  0.  0.  2.  0.  0.  0.  0.  0.  0.  0.  0.]\n"
     ]
    }
   ],
   "source": [
    "# Define o número de épocas (repetições).\n",
    "numEpocas = 2\n",
    "\n",
    "# Número de linhas a percorrer (relativo ao tamanho do dataset)\n",
    "# X.shape retorno o shape do dataset (2,6) \n",
    "q = X.shape[1]\n",
    "\n",
    "# Theta \n",
    "bias = 1\n",
    "\n",
    "\n",
    "# n = eta = Taxa de aprendizado\n",
    "eta = 0.1\n",
    "\n",
    "\n",
    "for j in range(numEpocas): # Repetir relativo ao numero de epocas\n",
    "  for k in range(q): # Para cada época repetir todas as 6 \"linhas\" \n",
    "    # insere o bias no vetor de entrada (para cada repetição)\n",
    "    xb = np.hstack((bias, X[:,k]))\n",
    "    print(\"este é o xb(inserindo Bias no vetor de entrada)...............\", xb)\n",
    "    print(\"este é o W(vetor de pesos)....................................\", W)\n",
    "\n",
    "    # Calcular o campo induzido (Multiplicação Vetorial)\n",
    "    V = np.dot(W, xb)\n",
    "    print(\"este é o V(multiplicação/soma vetorial (pesos x entradas))....\", V)\n",
    "    \n",
    "\n",
    "\n",
    "    # Calcular a saída perseptron \n",
    "    Yr = funcaoAtivacao(V)\n",
    "    print(\"este é o Yr(pega o V e passa pela função ativação)............\", Yr)\n",
    "\n",
    "\n",
    "    # Calculo do erro: e = (Y - Yr)\n",
    "    e[k] = y[k] - Yr\n",
    "    print(\"este é o y[k](Valor de Y real (Yr))...........................\", y[k])\n",
    "    print(\"este é o e[k](Cálculo do erro (Y - Yr)).......................\", e[k])\n",
    "\n",
    "\n",
    "    # Treinamento do Perceptron\n",
    "    W = W + eta*e[k]*xb\n",
    "    print(\"este é o W(pesos corrigido (W = W + eta*e[k]*xb)).............\", W)\n",
    "    print(\"\")\n",
    "    print(\"-------------------------------loop---------------------------------\")\n",
    "    print(\"\")\n",
    "print(\"vetor de erros (e) = \" + str(e))"
   ]
  }
 ],
 "metadata": {
  "colab": {
   "collapsed_sections": [],
   "name": "Perceptron Simples",
   "provenance": []
  },
  "kernelspec": {
   "display_name": "Python 3",
   "language": "python",
   "name": "python3"
  },
  "language_info": {
   "codemirror_mode": {
    "name": "ipython",
    "version": 3
   },
   "file_extension": ".py",
   "mimetype": "text/x-python",
   "name": "python",
   "nbconvert_exporter": "python",
   "pygments_lexer": "ipython3",
   "version": "3.8.3"
  }
 },
 "nbformat": 4,
 "nbformat_minor": 4
}
